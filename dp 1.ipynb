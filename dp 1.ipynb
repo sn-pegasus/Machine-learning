{
 "cells": [
  {
   "cell_type": "code",
   "execution_count": 4,
   "id": "f3e87321",
   "metadata": {},
   "outputs": [],
   "source": [
    "import pandas as pd\n",
    "from sklearn.model_selection import train_test_split\n",
    "from sklearn.preprocessing import RobustScaler\n",
    "from sklearn.linear_model import LogisticRegression\n",
    "from sklearn.metrics import accuracy_score\n",
    "from sklearn.svm import SVC # \"Support vector classifier\""
   ]
  },
  {
   "cell_type": "code",
   "execution_count": 5,
   "id": "9a461e6d",
   "metadata": {},
   "outputs": [],
   "source": [
    "dataset = pd.read_csv('Diabetes Binary Classification.csv')"
   ]
  },
  {
   "cell_type": "code",
   "execution_count": 6,
   "id": "41745440",
   "metadata": {},
   "outputs": [
    {
     "data": {
      "text/plain": [
       "(768, 9)"
      ]
     },
     "execution_count": 6,
     "metadata": {},
     "output_type": "execute_result"
    }
   ],
   "source": [
    "dataset.shape"
   ]
  },
  {
   "cell_type": "code",
   "execution_count": 7,
   "id": "ccb8f452",
   "metadata": {},
   "outputs": [
    {
     "name": "stdout",
     "output_type": "stream",
     "text": [
      "<class 'pandas.core.frame.DataFrame'>\n",
      "RangeIndex: 768 entries, 0 to 767\n",
      "Data columns (total 9 columns):\n",
      " #   Column                                                                    Non-Null Count  Dtype  \n",
      "---  ------                                                                    --------------  -----  \n",
      " 0   Number of times pregnant                                                  768 non-null    int64  \n",
      " 1   Plasma glucose concentration a 2 hours in an oral glucose tolerance test  768 non-null    int64  \n",
      " 2   Diastolic blood pressure (mm Hg)                                          768 non-null    int64  \n",
      " 3   Triceps skin fold thickness (mm)                                          768 non-null    int64  \n",
      " 4   2-Hour serum insulin (mu U/ml)                                            768 non-null    int64  \n",
      " 5   Body mass index (weight in kg/(height in m)^2)                            768 non-null    float64\n",
      " 6   Diabetes pedigree function                                                768 non-null    float64\n",
      " 7   Age (years)                                                               768 non-null    int64  \n",
      " 8   Class variable (0 or 1)                                                   768 non-null    int64  \n",
      "dtypes: float64(2), int64(7)\n",
      "memory usage: 54.1 KB\n"
     ]
    }
   ],
   "source": [
    "dataset.info()"
   ]
  },
  {
   "cell_type": "code",
   "execution_count": 8,
   "id": "d66ca5b5",
   "metadata": {},
   "outputs": [
    {
     "data": {
      "text/html": [
       "<div>\n",
       "<style scoped>\n",
       "    .dataframe tbody tr th:only-of-type {\n",
       "        vertical-align: middle;\n",
       "    }\n",
       "\n",
       "    .dataframe tbody tr th {\n",
       "        vertical-align: top;\n",
       "    }\n",
       "\n",
       "    .dataframe thead th {\n",
       "        text-align: right;\n",
       "    }\n",
       "</style>\n",
       "<table border=\"1\" class=\"dataframe\">\n",
       "  <thead>\n",
       "    <tr style=\"text-align: right;\">\n",
       "      <th></th>\n",
       "      <th>Number of times pregnant</th>\n",
       "      <th>Plasma glucose concentration a 2 hours in an oral glucose tolerance test</th>\n",
       "      <th>Diastolic blood pressure (mm Hg)</th>\n",
       "      <th>Triceps skin fold thickness (mm)</th>\n",
       "      <th>2-Hour serum insulin (mu U/ml)</th>\n",
       "      <th>Body mass index (weight in kg/(height in m)^2)</th>\n",
       "      <th>Diabetes pedigree function</th>\n",
       "      <th>Age (years)</th>\n",
       "      <th>Class variable (0 or 1)</th>\n",
       "    </tr>\n",
       "  </thead>\n",
       "  <tbody>\n",
       "    <tr>\n",
       "      <th>0</th>\n",
       "      <td>6</td>\n",
       "      <td>148</td>\n",
       "      <td>72</td>\n",
       "      <td>35</td>\n",
       "      <td>0</td>\n",
       "      <td>33.6</td>\n",
       "      <td>0.627</td>\n",
       "      <td>50</td>\n",
       "      <td>1</td>\n",
       "    </tr>\n",
       "    <tr>\n",
       "      <th>1</th>\n",
       "      <td>1</td>\n",
       "      <td>85</td>\n",
       "      <td>66</td>\n",
       "      <td>29</td>\n",
       "      <td>0</td>\n",
       "      <td>26.6</td>\n",
       "      <td>0.351</td>\n",
       "      <td>31</td>\n",
       "      <td>0</td>\n",
       "    </tr>\n",
       "    <tr>\n",
       "      <th>2</th>\n",
       "      <td>8</td>\n",
       "      <td>183</td>\n",
       "      <td>64</td>\n",
       "      <td>0</td>\n",
       "      <td>0</td>\n",
       "      <td>23.3</td>\n",
       "      <td>0.672</td>\n",
       "      <td>32</td>\n",
       "      <td>1</td>\n",
       "    </tr>\n",
       "    <tr>\n",
       "      <th>3</th>\n",
       "      <td>1</td>\n",
       "      <td>89</td>\n",
       "      <td>66</td>\n",
       "      <td>23</td>\n",
       "      <td>94</td>\n",
       "      <td>28.1</td>\n",
       "      <td>0.167</td>\n",
       "      <td>21</td>\n",
       "      <td>0</td>\n",
       "    </tr>\n",
       "    <tr>\n",
       "      <th>4</th>\n",
       "      <td>0</td>\n",
       "      <td>137</td>\n",
       "      <td>40</td>\n",
       "      <td>35</td>\n",
       "      <td>168</td>\n",
       "      <td>43.1</td>\n",
       "      <td>2.288</td>\n",
       "      <td>33</td>\n",
       "      <td>1</td>\n",
       "    </tr>\n",
       "    <tr>\n",
       "      <th>5</th>\n",
       "      <td>5</td>\n",
       "      <td>116</td>\n",
       "      <td>74</td>\n",
       "      <td>0</td>\n",
       "      <td>0</td>\n",
       "      <td>25.6</td>\n",
       "      <td>0.201</td>\n",
       "      <td>30</td>\n",
       "      <td>0</td>\n",
       "    </tr>\n",
       "    <tr>\n",
       "      <th>6</th>\n",
       "      <td>3</td>\n",
       "      <td>78</td>\n",
       "      <td>50</td>\n",
       "      <td>32</td>\n",
       "      <td>88</td>\n",
       "      <td>31.0</td>\n",
       "      <td>0.248</td>\n",
       "      <td>26</td>\n",
       "      <td>1</td>\n",
       "    </tr>\n",
       "    <tr>\n",
       "      <th>7</th>\n",
       "      <td>10</td>\n",
       "      <td>115</td>\n",
       "      <td>0</td>\n",
       "      <td>0</td>\n",
       "      <td>0</td>\n",
       "      <td>35.3</td>\n",
       "      <td>0.134</td>\n",
       "      <td>29</td>\n",
       "      <td>0</td>\n",
       "    </tr>\n",
       "    <tr>\n",
       "      <th>8</th>\n",
       "      <td>2</td>\n",
       "      <td>197</td>\n",
       "      <td>70</td>\n",
       "      <td>45</td>\n",
       "      <td>543</td>\n",
       "      <td>30.5</td>\n",
       "      <td>0.158</td>\n",
       "      <td>53</td>\n",
       "      <td>1</td>\n",
       "    </tr>\n",
       "    <tr>\n",
       "      <th>9</th>\n",
       "      <td>8</td>\n",
       "      <td>125</td>\n",
       "      <td>96</td>\n",
       "      <td>0</td>\n",
       "      <td>0</td>\n",
       "      <td>0.0</td>\n",
       "      <td>0.232</td>\n",
       "      <td>54</td>\n",
       "      <td>1</td>\n",
       "    </tr>\n",
       "  </tbody>\n",
       "</table>\n",
       "</div>"
      ],
      "text/plain": [
       "   Number of times pregnant  \\\n",
       "0                         6   \n",
       "1                         1   \n",
       "2                         8   \n",
       "3                         1   \n",
       "4                         0   \n",
       "5                         5   \n",
       "6                         3   \n",
       "7                        10   \n",
       "8                         2   \n",
       "9                         8   \n",
       "\n",
       "   Plasma glucose concentration a 2 hours in an oral glucose tolerance test  \\\n",
       "0                                                148                          \n",
       "1                                                 85                          \n",
       "2                                                183                          \n",
       "3                                                 89                          \n",
       "4                                                137                          \n",
       "5                                                116                          \n",
       "6                                                 78                          \n",
       "7                                                115                          \n",
       "8                                                197                          \n",
       "9                                                125                          \n",
       "\n",
       "   Diastolic blood pressure (mm Hg)  Triceps skin fold thickness (mm)  \\\n",
       "0                                72                                35   \n",
       "1                                66                                29   \n",
       "2                                64                                 0   \n",
       "3                                66                                23   \n",
       "4                                40                                35   \n",
       "5                                74                                 0   \n",
       "6                                50                                32   \n",
       "7                                 0                                 0   \n",
       "8                                70                                45   \n",
       "9                                96                                 0   \n",
       "\n",
       "   2-Hour serum insulin (mu U/ml)  \\\n",
       "0                               0   \n",
       "1                               0   \n",
       "2                               0   \n",
       "3                              94   \n",
       "4                             168   \n",
       "5                               0   \n",
       "6                              88   \n",
       "7                               0   \n",
       "8                             543   \n",
       "9                               0   \n",
       "\n",
       "   Body mass index (weight in kg/(height in m)^2)  Diabetes pedigree function  \\\n",
       "0                                            33.6                       0.627   \n",
       "1                                            26.6                       0.351   \n",
       "2                                            23.3                       0.672   \n",
       "3                                            28.1                       0.167   \n",
       "4                                            43.1                       2.288   \n",
       "5                                            25.6                       0.201   \n",
       "6                                            31.0                       0.248   \n",
       "7                                            35.3                       0.134   \n",
       "8                                            30.5                       0.158   \n",
       "9                                             0.0                       0.232   \n",
       "\n",
       "   Age (years)  Class variable (0 or 1)  \n",
       "0           50                        1  \n",
       "1           31                        0  \n",
       "2           32                        1  \n",
       "3           21                        0  \n",
       "4           33                        1  \n",
       "5           30                        0  \n",
       "6           26                        1  \n",
       "7           29                        0  \n",
       "8           53                        1  \n",
       "9           54                        1  "
      ]
     },
     "execution_count": 8,
     "metadata": {},
     "output_type": "execute_result"
    }
   ],
   "source": [
    "dataset.head(10)"
   ]
  },
  {
   "cell_type": "code",
   "execution_count": 9,
   "id": "a62b0be9",
   "metadata": {},
   "outputs": [
    {
     "data": {
      "text/plain": [
       "Number of times pregnant                                                    0\n",
       "Plasma glucose concentration a 2 hours in an oral glucose tolerance test    0\n",
       "Diastolic blood pressure (mm Hg)                                            0\n",
       "Triceps skin fold thickness (mm)                                            0\n",
       "2-Hour serum insulin (mu U/ml)                                              0\n",
       "Body mass index (weight in kg/(height in m)^2)                              0\n",
       "Diabetes pedigree function                                                  0\n",
       "Age (years)                                                                 0\n",
       "Class variable (0 or 1)                                                     0\n",
       "dtype: int64"
      ]
     },
     "execution_count": 9,
     "metadata": {},
     "output_type": "execute_result"
    }
   ],
   "source": [
    "dataset.isnull().sum()"
   ]
  },
  {
   "cell_type": "code",
   "execution_count": 10,
   "id": "8d43f6d2",
   "metadata": {},
   "outputs": [
    {
     "name": "stdout",
     "output_type": "stream",
     "text": [
      "       Number of times pregnant  \\\n",
      "count                768.000000   \n",
      "mean                   3.845052   \n",
      "std                    3.369578   \n",
      "min                    0.000000   \n",
      "25%                    1.000000   \n",
      "50%                    3.000000   \n",
      "75%                    6.000000   \n",
      "max                   17.000000   \n",
      "\n",
      "       Plasma glucose concentration a 2 hours in an oral glucose tolerance test  \\\n",
      "count                                         768.000000                          \n",
      "mean                                          120.894531                          \n",
      "std                                            31.972618                          \n",
      "min                                             0.000000                          \n",
      "25%                                            99.000000                          \n",
      "50%                                           117.000000                          \n",
      "75%                                           140.250000                          \n",
      "max                                           199.000000                          \n",
      "\n",
      "       Diastolic blood pressure (mm Hg)  Triceps skin fold thickness (mm)  \\\n",
      "count                        768.000000                        768.000000   \n",
      "mean                          69.105469                         20.536458   \n",
      "std                           19.355807                         15.952218   \n",
      "min                            0.000000                          0.000000   \n",
      "25%                           62.000000                          0.000000   \n",
      "50%                           72.000000                         23.000000   \n",
      "75%                           80.000000                         32.000000   \n",
      "max                          122.000000                         99.000000   \n",
      "\n",
      "       2-Hour serum insulin (mu U/ml)  \\\n",
      "count                      768.000000   \n",
      "mean                        79.799479   \n",
      "std                        115.244002   \n",
      "min                          0.000000   \n",
      "25%                          0.000000   \n",
      "50%                         30.500000   \n",
      "75%                        127.250000   \n",
      "max                        846.000000   \n",
      "\n",
      "       Body mass index (weight in kg/(height in m)^2)  \\\n",
      "count                                      768.000000   \n",
      "mean                                        31.992578   \n",
      "std                                          7.884160   \n",
      "min                                          0.000000   \n",
      "25%                                         27.300000   \n",
      "50%                                         32.000000   \n",
      "75%                                         36.600000   \n",
      "max                                         67.100000   \n",
      "\n",
      "       Diabetes pedigree function  Age (years)  Class variable (0 or 1)  \n",
      "count                  768.000000   768.000000               768.000000  \n",
      "mean                     0.471876    33.240885                 0.348958  \n",
      "std                      0.331329    11.760232                 0.476951  \n",
      "min                      0.078000    21.000000                 0.000000  \n",
      "25%                      0.243750    24.000000                 0.000000  \n",
      "50%                      0.372500    29.000000                 0.000000  \n",
      "75%                      0.626250    41.000000                 1.000000  \n",
      "max                      2.420000    81.000000                 1.000000  \n"
     ]
    }
   ],
   "source": [
    "print(dataset.describe())"
   ]
  },
  {
   "cell_type": "code",
   "execution_count": 11,
   "id": "9c09875c",
   "metadata": {},
   "outputs": [],
   "source": [
    "X = dataset.iloc[:,:-1]\n",
    "Y = dataset.iloc[:,-1]"
   ]
  },
  {
   "cell_type": "code",
   "execution_count": 12,
   "id": "33833fc5",
   "metadata": {},
   "outputs": [],
   "source": [
    "X_train, X_test, Y_train, Y_test = train_test_split(X,Y, test_size = 0.25, random_state = 0)"
   ]
  },
  {
   "cell_type": "code",
   "execution_count": 13,
   "id": "0fd6e4aa",
   "metadata": {},
   "outputs": [
    {
     "name": "stdout",
     "output_type": "stream",
     "text": [
      "[[ 1.2        -0.69047619 -0.625      ... -1.06451613 -0.61879195\n",
      "   0.23529412]\n",
      " [-0.4         0.         -0.875      ...  0.09677419 -0.29932886\n",
      "  -0.35294118]\n",
      " [-0.6        -0.64285714  0.5        ...  0.          0.61342282\n",
      "  -0.11764706]\n",
      " ...\n",
      " [ 0.2        -0.57142857 -0.4375     ... -0.82795699 -0.60268456\n",
      "  -0.47058824]\n",
      " [ 1.6        -0.78571429  0.125      ... -0.24731183 -0.19463087\n",
      "   0.35294118]\n",
      " [ 0.4         0.42857143  0.625      ... -3.48387097  0.71812081\n",
      "   2.35294118]]\n"
     ]
    }
   ],
   "source": [
    "sc = RobustScaler()\n",
    "X_train = sc.fit_transform(X_train)\n",
    "X_test = sc.transform(X_test)\n",
    "print(X_train)"
   ]
  },
  {
   "cell_type": "code",
   "execution_count": 14,
   "id": "5b6a3389",
   "metadata": {},
   "outputs": [
    {
     "data": {
      "text/html": [
       "<style>#sk-container-id-1 {color: black;background-color: white;}#sk-container-id-1 pre{padding: 0;}#sk-container-id-1 div.sk-toggleable {background-color: white;}#sk-container-id-1 label.sk-toggleable__label {cursor: pointer;display: block;width: 100%;margin-bottom: 0;padding: 0.3em;box-sizing: border-box;text-align: center;}#sk-container-id-1 label.sk-toggleable__label-arrow:before {content: \"▸\";float: left;margin-right: 0.25em;color: #696969;}#sk-container-id-1 label.sk-toggleable__label-arrow:hover:before {color: black;}#sk-container-id-1 div.sk-estimator:hover label.sk-toggleable__label-arrow:before {color: black;}#sk-container-id-1 div.sk-toggleable__content {max-height: 0;max-width: 0;overflow: hidden;text-align: left;background-color: #f0f8ff;}#sk-container-id-1 div.sk-toggleable__content pre {margin: 0.2em;color: black;border-radius: 0.25em;background-color: #f0f8ff;}#sk-container-id-1 input.sk-toggleable__control:checked~div.sk-toggleable__content {max-height: 200px;max-width: 100%;overflow: auto;}#sk-container-id-1 input.sk-toggleable__control:checked~label.sk-toggleable__label-arrow:before {content: \"▾\";}#sk-container-id-1 div.sk-estimator input.sk-toggleable__control:checked~label.sk-toggleable__label {background-color: #d4ebff;}#sk-container-id-1 div.sk-label input.sk-toggleable__control:checked~label.sk-toggleable__label {background-color: #d4ebff;}#sk-container-id-1 input.sk-hidden--visually {border: 0;clip: rect(1px 1px 1px 1px);clip: rect(1px, 1px, 1px, 1px);height: 1px;margin: -1px;overflow: hidden;padding: 0;position: absolute;width: 1px;}#sk-container-id-1 div.sk-estimator {font-family: monospace;background-color: #f0f8ff;border: 1px dotted black;border-radius: 0.25em;box-sizing: border-box;margin-bottom: 0.5em;}#sk-container-id-1 div.sk-estimator:hover {background-color: #d4ebff;}#sk-container-id-1 div.sk-parallel-item::after {content: \"\";width: 100%;border-bottom: 1px solid gray;flex-grow: 1;}#sk-container-id-1 div.sk-label:hover label.sk-toggleable__label {background-color: #d4ebff;}#sk-container-id-1 div.sk-serial::before {content: \"\";position: absolute;border-left: 1px solid gray;box-sizing: border-box;top: 0;bottom: 0;left: 50%;z-index: 0;}#sk-container-id-1 div.sk-serial {display: flex;flex-direction: column;align-items: center;background-color: white;padding-right: 0.2em;padding-left: 0.2em;position: relative;}#sk-container-id-1 div.sk-item {position: relative;z-index: 1;}#sk-container-id-1 div.sk-parallel {display: flex;align-items: stretch;justify-content: center;background-color: white;position: relative;}#sk-container-id-1 div.sk-item::before, #sk-container-id-1 div.sk-parallel-item::before {content: \"\";position: absolute;border-left: 1px solid gray;box-sizing: border-box;top: 0;bottom: 0;left: 50%;z-index: -1;}#sk-container-id-1 div.sk-parallel-item {display: flex;flex-direction: column;z-index: 1;position: relative;background-color: white;}#sk-container-id-1 div.sk-parallel-item:first-child::after {align-self: flex-end;width: 50%;}#sk-container-id-1 div.sk-parallel-item:last-child::after {align-self: flex-start;width: 50%;}#sk-container-id-1 div.sk-parallel-item:only-child::after {width: 0;}#sk-container-id-1 div.sk-dashed-wrapped {border: 1px dashed gray;margin: 0 0.4em 0.5em 0.4em;box-sizing: border-box;padding-bottom: 0.4em;background-color: white;}#sk-container-id-1 div.sk-label label {font-family: monospace;font-weight: bold;display: inline-block;line-height: 1.2em;}#sk-container-id-1 div.sk-label-container {text-align: center;}#sk-container-id-1 div.sk-container {/* jupyter's `normalize.less` sets `[hidden] { display: none; }` but bootstrap.min.css set `[hidden] { display: none !important; }` so we also need the `!important` here to be able to override the default hidden behavior on the sphinx rendered scikit-learn.org. See: https://github.com/scikit-learn/scikit-learn/issues/21755 */display: inline-block !important;position: relative;}#sk-container-id-1 div.sk-text-repr-fallback {display: none;}</style><div id=\"sk-container-id-1\" class=\"sk-top-container\"><div class=\"sk-text-repr-fallback\"><pre>LogisticRegression()</pre><b>In a Jupyter environment, please rerun this cell to show the HTML representation or trust the notebook. <br />On GitHub, the HTML representation is unable to render, please try loading this page with nbviewer.org.</b></div><div class=\"sk-container\" hidden><div class=\"sk-item\"><div class=\"sk-estimator sk-toggleable\"><input class=\"sk-toggleable__control sk-hidden--visually\" id=\"sk-estimator-id-1\" type=\"checkbox\" checked><label for=\"sk-estimator-id-1\" class=\"sk-toggleable__label sk-toggleable__label-arrow\">LogisticRegression</label><div class=\"sk-toggleable__content\"><pre>LogisticRegression()</pre></div></div></div></div></div>"
      ],
      "text/plain": [
       "LogisticRegression()"
      ]
     },
     "execution_count": 14,
     "metadata": {},
     "output_type": "execute_result"
    }
   ],
   "source": [
    "model= LogisticRegression()\n",
    "model.fit(X_train, Y_train)"
   ]
  },
  {
   "cell_type": "code",
   "execution_count": 15,
   "id": "e935b62d",
   "metadata": {},
   "outputs": [],
   "source": [
    "Y_pred = model.predict(X_test)"
   ]
  },
  {
   "cell_type": "code",
   "execution_count": 16,
   "id": "47a6c4db",
   "metadata": {},
   "outputs": [
    {
     "name": "stdout",
     "output_type": "stream",
     "text": [
      "THE ACCURACY OF THE MODEL FOR DETECTING WHETHER PATIENTS IS GETTING DIABATES IS : 80.20833333333334%\n"
     ]
    }
   ],
   "source": [
    "print(\"THE ACCURACY OF THE MODEL FOR DETECTING WHETHER PATIENTS IS GETTING DIABATES IS : {0}%\".format(accuracy_score(Y_test,Y_pred)*100))"
   ]
  },
  {
   "cell_type": "code",
   "execution_count": 17,
   "id": "391b4ae4",
   "metadata": {},
   "outputs": [
    {
     "name": "stdout",
     "output_type": "stream",
     "text": [
      "--------------ENTER PATIENTS DETAILS-----------------------\n"
     ]
    },
    {
     "ename": "ValueError",
     "evalue": "invalid literal for int() with base 10: 'jlk'",
     "output_type": "error",
     "traceback": [
      "\u001b[1;31m---------------------------------------------------------------------------\u001b[0m",
      "\u001b[1;31mValueError\u001b[0m                                Traceback (most recent call last)",
      "Cell \u001b[1;32mIn[17], line 5\u001b[0m\n\u001b[0;32m      2\u001b[0m warnings\u001b[39m.\u001b[39mfilterwarnings(\u001b[39m'\u001b[39m\u001b[39mignore\u001b[39m\u001b[39m'\u001b[39m)\n\u001b[0;32m      4\u001b[0m \u001b[39mprint\u001b[39m(\u001b[39m\"\u001b[39m\u001b[39m--------------ENTER PATIENTS DETAILS-----------------------\u001b[39m\u001b[39m\"\u001b[39m) \n\u001b[1;32m----> 5\u001b[0m p \u001b[39m=\u001b[39m \u001b[39mint\u001b[39;49m(\u001b[39minput\u001b[39;49m(\u001b[39m\"\u001b[39;49m\u001b[39mENTER NO OF TIMES PATIENT IS PREGNENT : \u001b[39;49m\u001b[39m\"\u001b[39;49m))\n\u001b[0;32m      6\u001b[0m pg \u001b[39m=\u001b[39m \u001b[39mint\u001b[39m(\u001b[39minput\u001b[39m(\u001b[39m\"\u001b[39m\u001b[39mENTER THE PLASMA GLOUCOSE CONCENTRATION : \u001b[39m\u001b[39m\"\u001b[39m))\n\u001b[0;32m      7\u001b[0m bp \u001b[39m=\u001b[39m \u001b[39mint\u001b[39m(\u001b[39minput\u001b[39m(\u001b[39m\"\u001b[39m\u001b[39mENTER DIASTOLIC BLOOD PRESSURE : \u001b[39m\u001b[39m\"\u001b[39m))\n",
      "\u001b[1;31mValueError\u001b[0m: invalid literal for int() with base 10: 'jlk'"
     ]
    }
   ],
   "source": [
    "import warnings\n",
    "warnings.filterwarnings('ignore')\n",
    "\n",
    "print(\"--------------ENTER PATIENTS DETAILS-----------------------\") \n",
    "p = int(input(\"ENTER NO OF TIMES PATIENT IS PREGNENT : \"))\n",
    "pg = int(input(\"ENTER THE PLASMA GLOUCOSE CONCENTRATION : \"))\n",
    "bp = int(input(\"ENTER DIASTOLIC BLOOD PRESSURE : \"))\n",
    "ts = int(input(\"ENTER TRICEPS SKIN FOLD THICKNESS : \"))\n",
    "si = int(input(\"ENTER 2-HOUR SERUM INSULIN : \"))\n",
    "bm = float(input(\"ENTER BODY MASS INDEX : \"))\n",
    "df = float(input(\"ENTER DIABETES PEDIGREE FUNCTION : \"))\n",
    "age = int(input(\"ENTER AGE : \"))\n",
    "\n",
    "if p>=0 and pg>=0 and bp>=0 and ts>=0 and si>=0 and bm>=0 and df>=0 and age>0:\n",
    "    newpat = [[p,pg,bp,ts,si,bm,df,age]]\n",
    "    Prediction = model.predict(sc.transform(newpat))\n",
    "    \n",
    "    print()\n",
    "    print()\n",
    "    \n",
    "    if Prediction == 1:\n",
    "        print(\"PATIENTS IS GOING TO GETTING DIABATES \")\n",
    "    else:\n",
    "        print(\"PATIENTS IS NOT GOING TO GETTING DIABATES\")"
   ]
  },
  {
   "cell_type": "code",
   "execution_count": null,
   "id": "3708514c",
   "metadata": {},
   "outputs": [],
   "source": []
  }
 ],
 "metadata": {
  "kernelspec": {
   "display_name": "Python 3",
   "language": "python",
   "name": "python3"
  },
  "language_info": {
   "codemirror_mode": {
    "name": "ipython",
    "version": 3
   },
   "file_extension": ".py",
   "mimetype": "text/x-python",
   "name": "python",
   "nbconvert_exporter": "python",
   "pygments_lexer": "ipython3",
   "version": "3.11.1"
  },
  "vscode": {
   "interpreter": {
    "hash": "5333772799007d5fd68e9afdfb89c76b65a3946b8b512f06d4a7b9fab3307685"
   }
  }
 },
 "nbformat": 4,
 "nbformat_minor": 5
}
